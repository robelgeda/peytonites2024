{
 "cells": [
  {
   "cell_type": "code",
   "execution_count": 1,
   "id": "0",
   "metadata": {},
   "outputs": [],
   "source": [
    "import os\n",
    "from os import path \n",
    "from time import time\n",
    "\n",
    "import jax\n",
    "import jax.numpy as jnp\n",
    "import numpy as np \n",
    "\n",
    "import numpy as np \n",
    "\n",
    "from astropy import units as u\n",
    "from astropy import constants as const \n",
    "\n",
    "from functools import partial"
   ]
  },
  {
   "cell_type": "code",
   "execution_count": 2,
   "id": "b3ee0d18-31ef-41db-a891-2302b600799d",
   "metadata": {},
   "outputs": [
    {
     "name": "stdout",
     "output_type": "stream",
     "text": [
      "cpu\n"
     ]
    },
    {
     "name": "stderr",
     "output_type": "stream",
     "text": [
      "2024-06-12 12:59:08.049369: E external/xla/xla/stream_executor/cuda/cuda_driver.cc:266] failed call to cuInit: CUDA_ERROR_NO_DEVICE: no CUDA-capable device is detected\n"
     ]
    }
   ],
   "source": [
    "# test to see what device we are running on \n",
    "try: \n",
    "    from jax.lib import xla_bridge\n",
    "    print(xla_bridge.get_backend().platform)\n",
    "except: \n",
    "    print(xla_bridge.get_backend().platform)"
   ]
  },
  {
   "cell_type": "code",
   "execution_count": 3,
   "id": "1",
   "metadata": {},
   "outputs": [],
   "source": [
    "%matplotlib inline \n",
    "import matplotlib.pyplot as plt\n",
    "import matplotlib.patches as patches\n",
    "plt.rcParams['figure.figsize'] = [6, 6]\n",
    "plt.rcParams['image.origin'] = 'lower'\n",
    "plt.rcParams['font.size'] = 12\n",
    "plt.rcParams[\"xtick.top\"] = True\n",
    "plt.rcParams[\"ytick.right\"] = True\n",
    "plt.rcParams[\"xtick.direction\"] = \"in\"\n",
    "plt.rcParams[\"ytick.direction\"] = \"in\"\n",
    "plt.rcParams[\"xtick.minor.visible\"] = True\n",
    "plt.rcParams[\"ytick.minor.visible\"] = True\n",
    "plt.rcParams[\"xtick.major.size\"] = 7\n",
    "plt.rcParams[\"xtick.minor.size\"] = 4.5\n",
    "plt.rcParams[\"ytick.major.size\"] = 7\n",
    "plt.rcParams[\"ytick.minor.size\"] = 4.5\n",
    "plt.rcParams[\"xtick.major.width\"] = 2\n",
    "plt.rcParams[\"xtick.minor.width\"] = 1.5\n",
    "plt.rcParams[\"ytick.major.width\"] = 2\n",
    "plt.rcParams[\"ytick.minor.width\"] = 1.5\n",
    "plt.rcParams[\"axes.linewidth\"] = 2\n",
    "plt.rcParams[\"font.family\"] = \"serif\"\n",
    "plt.rcParams[\"mathtext.fontset\"] = \"dejavuserif\"\n",
    "plt.rcParams.update({\"text.usetex\": True})"
   ]
  },
  {
   "cell_type": "code",
   "execution_count": 4,
   "id": "2",
   "metadata": {},
   "outputs": [],
   "source": [
    "import peytonites\n",
    "from peytonites import (\n",
    "    Distribution, SimState,\n",
    "    kpc_to_cm, cm_to_kpc, \n",
    "    lyr_to_cm, cm_to_lyr, \n",
    "    au_to_cm, cm_to_au\n",
    ")"
   ]
  },
  {
   "cell_type": "markdown",
   "id": "3",
   "metadata": {},
   "source": [
    "# Load Inital Condition"
   ]
  },
  {
   "cell_type": "code",
   "execution_count": 5,
   "id": "4",
   "metadata": {},
   "outputs": [],
   "source": [
    "sim_init_cond = SimState.read('init_conds/solar_system_100000step_init.dat')"
   ]
  },
  {
   "cell_type": "markdown",
   "id": "5",
   "metadata": {},
   "source": [
    "# Traditional Simulation"
   ]
  },
  {
   "cell_type": "code",
   "execution_count": 6,
   "id": "6",
   "metadata": {},
   "outputs": [],
   "source": [
    "def traditional_simulation(sim_init_cond, out_dir, verbose=True):\n",
    "    \n",
    "    G = sim_init_cond.G # cm^3 / (g s^2)\n",
    "    dt = sim_init_cond.dt\n",
    "    nsteps = sim_init_cond.nsteps\n",
    "    out_interval = sim_init_cond.out_interval\n",
    "    soft = sim_init_cond.soft\n",
    "    \n",
    "    init_dist = sim_init_cond.distribution\n",
    "    \n",
    "    number_particles = init_dist.N\n",
    "    \n",
    "    x_arr = init_dist.x.copy()\n",
    "    y_arr = init_dist.y.copy()\n",
    "    z_arr = init_dist.z.copy()\n",
    "    \n",
    "    vx_arr = init_dist.vx.copy()\n",
    "    vy_arr = init_dist.vy.copy()\n",
    "    vz_arr = init_dist.vz.copy()\n",
    "    \n",
    "    mass_arr = init_dist.m.copy()\n",
    "    #----------------------------------------\n",
    "    for step in range(nsteps): \n",
    "        ax_arr = np.zeros_like(x_arr)\n",
    "        ay_arr = np.zeros_like(x_arr)\n",
    "        az_arr = np.zeros_like(x_arr)\n",
    "\n",
    "        for i in range(number_particles):\n",
    "            ax, ay, az = 0., 0., 0.\n",
    "            xi, yi, zi = x_arr[i], y_arr[i], z_arr[i]\n",
    "\n",
    "            for j in range(number_particles):\n",
    "                if i == j:\n",
    "                    continue\n",
    "\n",
    "                dx = xi - x_arr[j]\n",
    "                dy = yi - y_arr[j]\n",
    "                dz = zi - z_arr[j]\n",
    "\n",
    "                r_ij_squared = dx**2 + dy**2 + dz**2 + soft**2\n",
    "                r_ij = np.sqrt(r_ij_squared)\n",
    "                r_ij_cubed = r_ij_squared * r_ij\n",
    "\n",
    "                mj = mass_arr[j]\n",
    "                a = - (G * mj) / r_ij_cubed\n",
    "\n",
    "                ax += a * dx \n",
    "                ay += a * dy \n",
    "                az += a * dz \n",
    "\n",
    "            ax_arr[i] = ax \n",
    "            ay_arr[i] = ay\n",
    "            az_arr[i] = az\n",
    "\n",
    "        \n",
    "        for i in range(number_particles):\n",
    "\n",
    "            vx_arr[i] += ax_arr[i] * dt\n",
    "            vy_arr[i] += ay_arr[i] * dt\n",
    "            vz_arr[i] += az_arr[i] * dt\n",
    "\n",
    "\n",
    "            x_arr[i] += vx_arr[i] * dt\n",
    "            y_arr[i] += vy_arr[i] * dt\n",
    "            z_arr[i] += vz_arr[i] * dt\n",
    "    #----------------------------------------\n",
    "\n",
    "        if step % out_interval == 0:\n",
    "            if verbose:\n",
    "                print(step)\n",
    "            \n",
    "            step_params = sim_init_cond.copy()\n",
    "            if step > 0:\n",
    "                step_dist = Distribution.from_arrays(\n",
    "                    x_arr, y_arr, z_arr, \n",
    "                    vx_arr, vy_arr, vz_arr,\n",
    "                    mass_arr, name=init_dist.name)\n",
    "\n",
    "                step_params = sim_init_cond.copy()\n",
    "                step_params.distribution = step_dist                \n",
    "            \n",
    "            step_filename = 'step_{:08d}.dat'.format(step)\n",
    "            step_path = path.join(out_dir, step_filename)\n",
    "            \n",
    "            if not os.path.isdir(out_dir):\n",
    "                os.makedirs(out_dir)\n",
    "            \n",
    "            step_params.write(step_path)\n",
    "            \n",
    "    if verbose:\n",
    "        print(step)\n",
    "    return \n",
    "    "
   ]
  },
  {
   "cell_type": "markdown",
   "id": "7",
   "metadata": {},
   "source": [
    "### Define Output Dir\n",
    "\n",
    "Make sure to have a `simout` in the name for git ignore"
   ]
  },
  {
   "cell_type": "code",
   "execution_count": 7,
   "id": "8",
   "metadata": {},
   "outputs": [],
   "source": [
    "out_dir = './solar_system_simout'"
   ]
  },
  {
   "cell_type": "code",
   "execution_count": 8,
   "id": "9",
   "metadata": {},
   "outputs": [
    {
     "name": "stdout",
     "output_type": "stream",
     "text": [
      "done traditional_run_time: 19.01957869529724 s\n"
     ]
    }
   ],
   "source": [
    "tstart = time()\n",
    "traditional_simulation(sim_init_cond, out_dir, verbose=False)\n",
    "tend = time()\n",
    "\n",
    "traditional_run_time = (tend-tstart)*u.s\n",
    "print('done', 'traditional_run_time:', traditional_run_time)"
   ]
  },
  {
   "cell_type": "markdown",
   "id": "10",
   "metadata": {},
   "source": [
    "# Vector Simulation\n",
    "\n",
    "**Running this will replace/overwrite the last outputs**\n",
    "\n",
    "Using vectorized operations in this implementation significantly reduces computation time compared to the double for-loop, but at the cost of massively increased memory usage due to storing large intermediate arrays for pairwise distances and accelerations.\n",
    "\n"
   ]
  },
  {
   "cell_type": "code",
   "execution_count": 9,
   "id": "11",
   "metadata": {},
   "outputs": [],
   "source": [
    "def vector_simulation(n_steps, sim_init_cond, out_dir, verbose=False):\n",
    "    \n",
    "    G = sim_init_cond.G # cm^3 / (g s^2)\n",
    "    dt = sim_init_cond.dt\n",
    "    nsteps = n_steps #sim_init_cond.nsteps\n",
    "    out_interval = sim_init_cond.out_interval\n",
    "    soft = sim_init_cond.soft\n",
    "    \n",
    "    init_dist = sim_init_cond.distribution\n",
    "    \n",
    "    number_particles = init_dist.N\n",
    "    \n",
    "    x_arr = init_dist.x.copy()\n",
    "    y_arr = init_dist.y.copy()\n",
    "    z_arr = init_dist.z.copy()\n",
    "    \n",
    "    vx_arr = init_dist.vx.copy()\n",
    "    vy_arr = init_dist.vy.copy()\n",
    "    vz_arr = init_dist.vz.copy()\n",
    "    \n",
    "    mass_arr = init_dist.m.copy()\n",
    "    #----------------------------------------\n",
    "    for step in range(nsteps): \n",
    "        dx = x_arr[:, np.newaxis] - x_arr\n",
    "        dy = y_arr[:, np.newaxis] - y_arr\n",
    "        dz = z_arr[:, np.newaxis] - z_arr\n",
    "        \n",
    "        # Avoid division by zero by adding softening length\n",
    "        r_squared = dx**2 + dy**2 + dz**2 + soft**2\n",
    "        np.fill_diagonal(r_squared, 1)  # Avoid self-interaction\n",
    "        \n",
    "        r = np.sqrt(r_squared)\n",
    "        r_cubed = r_squared * r\n",
    "        \n",
    "        # Compute accelerations\n",
    "        a = -G * mass_arr / r_cubed\n",
    "        np.fill_diagonal(a, 0)  \n",
    "        ax_arr = np.sum(a * dx, axis=1)\n",
    "        ay_arr = np.sum(a * dy, axis=1)\n",
    "        az_arr = np.sum(a * dz, axis=1)\n",
    "        \n",
    "        \n",
    "        # Update velocities and positions\n",
    "        vx_arr += ax_arr * dt\n",
    "        vy_arr += ay_arr * dt\n",
    "        vz_arr += az_arr * dt\n",
    "        \n",
    "        x_arr += vx_arr * dt\n",
    "        y_arr += vy_arr * dt\n",
    "        z_arr += vz_arr * dt\n",
    "    #----------------------------------------\n",
    "\n",
    "        if step % out_interval == 0:\n",
    "            if verbose:\n",
    "                print(step) \n",
    "            \n",
    "            step_params = sim_init_cond.copy()\n",
    "            if step > 0:\n",
    "                step_dist = Distribution.from_arrays(\n",
    "                    x_arr, y_arr, z_arr, \n",
    "                    vx_arr, vy_arr, vz_arr,\n",
    "                    mass_arr, name=init_dist.name)\n",
    "\n",
    "                step_params = sim_init_cond.copy()\n",
    "                step_params.distribution = step_dist                \n",
    "            \n",
    "            step_filename = 'step_{:08d}.dat'.format(step)\n",
    "            step_path = path.join(out_dir, step_filename)\n",
    "            \n",
    "            if not os.path.isdir(out_dir):\n",
    "                os.makedirs(out_dir)\n",
    "            \n",
    "            step_params.write(step_path)\n",
    "    if verbose:\n",
    "        print(step) \n",
    "    #----------------------------------------\n",
    "    return \n",
    "    "
   ]
  },
  {
   "cell_type": "code",
   "execution_count": 10,
   "id": "dead9d00-945b-4ab4-b5d0-5fd2843980af",
   "metadata": {
    "tags": []
   },
   "outputs": [],
   "source": [
    "@jax.jit\n",
    "def body(x_arr, \n",
    "        y_arr, \n",
    "        z_arr, \n",
    "        mass_arr,\n",
    "        vx_arr, \n",
    "        vy_arr,\n",
    "        vz_arr,\n",
    "        G,\n",
    "        dt):\n",
    "    \n",
    "    dx = x_arr[:, jnp.newaxis] - x_arr\n",
    "    dy = y_arr[:, jnp.newaxis] - y_arr\n",
    "    dz = z_arr[:, jnp.newaxis] - z_arr\n",
    "        \n",
    "    # Avoid division by zero by adding softening length\n",
    "    r_squared = dx**2 + dy**2 + dz**2 + soft**2\n",
    "    jnp.fill_diagonal(r_squared, 1, inplace=False)  # Avoid self-interaction\n",
    "        \n",
    "    r = jnp.sqrt(r_squared)\n",
    "    r_cubed = r_squared * r\n",
    "        \n",
    "    # Compute accelerations\n",
    "    a = -G * mass_arr / r_cubed\n",
    "    jnp.fill_diagonal(a, 0, inplace=False)  \n",
    "    ax_arr = jnp.sum(a * dx, axis=1)\n",
    "    ay_arr = jnp.sum(a * dy, axis=1)\n",
    "    az_arr = jnp.sum(a * dz, axis=1)\n",
    "        \n",
    "        \n",
    "    # Update velocities and positions\n",
    "    vx_arr += ax_arr * dt\n",
    "    vy_arr += ay_arr * dt\n",
    "    vz_arr += az_arr * dt\n",
    "        \n",
    "    x_arr += vx_arr * dt\n",
    "    y_arr += vy_arr * dt\n",
    "    z_arr += vz_arr * dt\n",
    "    #----------------------------------------\n",
    "        \n",
    "    return x_arr, y_arr, z_arr, mass_arr,vx_arr, vy_arr,vz_arr,G,dt\n",
    "\n",
    "\n",
    "def jax_simulation(n_steps, sim_init_cond, out_dir, verbose=False):\n",
    "    \n",
    "    G = sim_init_cond.G # cm^3 / (g s^2)\n",
    "    dt = sim_init_cond.dt\n",
    "    nsteps = n_steps  #sim_init_cond.nsteps\n",
    "    out_interval = sim_init_cond.out_interval\n",
    "    soft = sim_init_cond.soft\n",
    "    \n",
    "    init_dist = sim_init_cond.distribution\n",
    "    \n",
    "    number_particles = init_dist.N\n",
    "    \n",
    "    x_arr = jnp.array(init_dist.x.copy())\n",
    "    y_arr = jnp.array(init_dist.y.copy())\n",
    "    z_arr = jnp.array(init_dist.z.copy())\n",
    "    \n",
    "    vx_arr = jnp.array(init_dist.vx.copy())\n",
    "    vy_arr = jnp.array(init_dist.vy.copy())\n",
    "    vz_arr = jnp.array(init_dist.vz.copy())\n",
    "    \n",
    "    mass_arr = jnp.array(init_dist.m.copy())\n",
    "    #----------------------------------------\n",
    "    for step in range(nsteps): \n",
    "        x_arr, y_arr, z_arr, mass_arr,vx_arr, vy_arr,vz_arr,G,dt = body(x_arr, \n",
    "        y_arr, \n",
    "        z_arr, \n",
    "        mass_arr,\n",
    "        vx_arr, \n",
    "        vy_arr,\n",
    "        vz_arr,\n",
    "        G,\n",
    "        dt)\n",
    "        \n",
    "        if step % out_interval == 0:\n",
    "            \n",
    "            step_params = sim_init_cond.copy()\n",
    "            if step > 0:\n",
    "                step_dist = Distribution.from_arrays(\n",
    "                    np.array(x_arr), np.array(y_arr), np.array(z_arr), \n",
    "                    np.array(vx_arr), np.array(vy_arr), np.array(vz_arr),\n",
    "                    np.array(mass_arr), name=init_dist.name)\n",
    "\n",
    "                step_params = sim_init_cond.copy()\n",
    "                step_params.distribution = step_dist                \n",
    "            \n",
    "            step_filename = 'step_{:08d}.dat'.format(step)\n",
    "            step_path = path.join(out_dir, step_filename)\n",
    "            \n",
    "            if not os.path.isdir(out_dir):\n",
    "                os.makedirs(out_dir)\n",
    "            \n",
    "            step_params.write(step_path)\n",
    "\n",
    "    return "
   ]
  },
  {
   "cell_type": "code",
   "execution_count": 11,
   "id": "a10c6983-484a-4957-a78e-cc678d6a0dbb",
   "metadata": {},
   "outputs": [
    {
     "name": "stdout",
     "output_type": "stream",
     "text": [
      "Points: 5000, Distribution: Plummer\n",
      "Points: 5000, Distribution: Plummer\n",
      "Points: 10000, Distribution: Plummer+Plummer\n"
     ]
    },
    {
     "data": {
      "image/png": "[encoded data removed]",
      "text/plain": [
       "<Figure size 1800x600 with 3 Axes>"
      ]
     },
     "metadata": {},
     "output_type": "display_data"
    },
    {
     "name": "stdout",
     "output_type": "stream",
     "text": [
      "done\n"
     ]
    }
   ],
   "source": [
    "N = 10000\n",
    "total_mass = N * (1*u.M_sun).to('g').value\n",
    "radius = (10*u.lyr).to('cm').value\n",
    "dynamical_time = peytonites.dynamical_time(total_mass, radius)\n",
    "\n",
    "dist_1 = peytonites.plummer(\n",
    "    N // 2, radius,\n",
    "    x0=0, y0=0, z0=0,\n",
    "    total_mass=total_mass,\n",
    "    vx0=0.0, vy0=0.0, vz0=0.0,\n",
    "    max_radius=radius\n",
    ")\n",
    "\n",
    "dist_2 = peytonites.plummer(\n",
    "    N // 2, radius,\n",
    "    x0=radius*8, y0=radius*8, z0=radius*8,\n",
    "    total_mass=total_mass,\n",
    "    vx0=0.0, vy0=0.0, vz0=0.0,\n",
    "    max_radius=radius\n",
    ")\n",
    "\n",
    "\n",
    "dist_combo = dist_1 + dist_2\n",
    "\n",
    "print(dist_1)\n",
    "print(dist_2)\n",
    "print(dist_combo)\n",
    "\n",
    "dist_combo.plot()\n",
    "plt.show()\n",
    "\n",
    "# Estimate softening param based on number density and mean length:\n",
    "soft = peytonites.estimate_softening_length(N, radius, fraction=0.5)\n",
    "\n",
    "sim_init_cond = SimState(\n",
    "    distribution=dist_combo, # `Distribution` object\n",
    "    nsteps=10000, # Number of steps in the sim\n",
    "    dt=dynamical_time / 100, # Time interval for each time-step\n",
    "    soft=soft, # Softening parameter\n",
    "    out_interval=10 # Output sim every out_interval\n",
    ")\n",
    "\n",
    "print('done')"
   ]
  },
  {
   "cell_type": "code",
   "execution_count": null,
   "id": "c11a81ee-5d76-40b6-aa20-e938692d29ad",
   "metadata": {},
   "outputs": [
    {
     "name": "stdout",
     "output_type": "stream",
     "text": [
      "            timing tests\n",
      "------------------------------------\n",
      "            vectorized\n"
     ]
    }
   ],
   "source": [
    "out_dir = './solar_system_simout_JAX'\n",
    "#sim_init_cond = SimState.read('init_conds/plummer_collision_10000p_10000step_init.dat')\n",
    "jitted_sim = jax.jit(jax_simulation, static_argnums=(0,1,2,3))\n",
    "steps = 100\n",
    "\n",
    "# ------------------------------------------ #\n",
    "# ------------------------------------------ #\n",
    "print('            timing tests')\n",
    "print('------------------------------------')\n",
    "print('            vectorized')\n",
    "tstart = time()\n",
    "vector_simulation(steps, sim_init_cond, out_dir)\n",
    "tend = time()\n",
    "\n",
    "vector_run_time = (tend-tstart)*u.s\n",
    "print('done', 'vector_run_time', vector_run_time)\n",
    "\n",
    "# ------------------------------------------ #\n",
    "# ------------------------------------------ #\n",
    "print('           JIT compiled')\n",
    "tstart = time()\n",
    "jax_simulation(steps, sim_init_cond, out_dir, verbose=False)\n",
    "tend = time()\n",
    "\n",
    "vector_run_time = (tend-tstart)*u.s\n",
    "print('done', 'jax compile_and_run_time', vector_run_time)"
   ]
  },
  {
   "cell_type": "markdown",
   "id": "13",
   "metadata": {},
   "source": [
    "# Visualization"
   ]
  },
  {
   "cell_type": "markdown",
   "id": "14",
   "metadata": {},
   "source": [
    "### By \"Hand\""
   ]
  },
  {
   "cell_type": "code",
   "execution_count": null,
   "id": "15",
   "metadata": {},
   "outputs": [],
   "source": [
    "file_path = path.join(out_dir, 'step_00000090.dat')\n",
    "\n",
    "# Load simulation state\n",
    "step_state = SimState.read(file_path)\n",
    "\n",
    "# Get particle distribution \n",
    "dist = step_state.distribution\n",
    "\n",
    "# Plot x and y in cm \n",
    "plt.scatter(dist.x, dist.y)\n",
    "plt.title('Quick Plot')\n",
    "plt.show()\n",
    "\n",
    "# Plot x and y in AU \n",
    "# (you can also use astropy units) \n",
    "plt.scatter(cm_to_au(dist.x), cm_to_au(dist.y), c='k')\n",
    "\n",
    "# Make the sun a star\n",
    "plt.scatter(cm_to_au(dist.x[0]), cm_to_au(dist.y[0]), \n",
    "            marker='*', c='orange', s=100, label='sun')\n",
    "\n",
    "plt.xlim(-38, 38)\n",
    "plt.ylim(-38, 38)\n",
    "plt.title('Solar System in AU')\n",
    "plt.legend()\n",
    "\n",
    "plt.show()"
   ]
  },
  {
   "cell_type": "markdown",
   "id": "16",
   "metadata": {},
   "source": [
    "### 2D GIF\n",
    "\n",
    "This gif will be saved in the `out_dir`. Its kind of slow but does the job! "
   ]
  },
  {
   "cell_type": "code",
   "execution_count": null,
   "id": "17",
   "metadata": {},
   "outputs": [],
   "source": [
    "peytonites.simulation_to_gif_2d(\n",
    "    out_dir, \n",
    "    gif_filename='solar_sys_2d.gif', \n",
    "    extent=1e7*u.AU, \n",
    "    unit='AU'\n",
    ")"
   ]
  },
  {
   "cell_type": "markdown",
   "id": "18",
   "metadata": {},
   "source": [
    "### 3D GIF\n",
    "\n",
    "This gif will be saved in the `out_dir`. Its kind of slow but does the job! "
   ]
  },
  {
   "cell_type": "code",
   "execution_count": null,
   "id": "19",
   "metadata": {},
   "outputs": [],
   "source": [
    "peytonites.simulation_to_gif_3d(out_dir, gif_filename='solar_sys_3d.gif', extent=1e7*u.AU, unit='AU')"
   ]
  },
  {
   "cell_type": "code",
   "execution_count": null,
   "id": "448d65de-9bd8-400e-8310-724e4af90e08",
   "metadata": {},
   "outputs": [],
   "source": []
  }
 ],
 "metadata": {
  "kernelspec": {
   "display_name": "Python 3 (ipykernel)",
   "language": "python",
   "name": "python3"
  },
  "language_info": {
   "codemirror_mode": {
    "name": "ipython",
    "version": 3
   },
   "file_extension": ".py",
   "mimetype": "text/x-python",
   "name": "python",
   "nbconvert_exporter": "python",
   "pygments_lexer": "ipython3",
   "version": "3.11.8"
  }
 },
 "nbformat": 4,
 "nbformat_minor": 5
}
