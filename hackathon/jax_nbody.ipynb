{
 "cells": [
  {
   "cell_type": "code",
   "execution_count": 14,
   "id": "0",
   "metadata": {},
   "outputs": [],
   "source": [
    "import os\n",
    "from os import path \n",
    "from time import time\n",
    "\n",
    "import jax\n",
    "import jax.numpy as jnp\n",
    "import numpy as np \n",
    "\n",
    "import numpy as np \n",
    "\n",
    "from astropy import units as u\n",
    "from astropy import constants as const \n",
    "\n",
    "from functools import partial\n",
    "\n",
    "# turn on 64 bit operations\n",
    "jax.config.update(\"jax_enable_x64\", True)"
   ]
  },
  {
   "cell_type": "code",
   "execution_count": 15,
   "id": "b3ee0d18-31ef-41db-a891-2302b600799d",
   "metadata": {},
   "outputs": [
    {
     "name": "stdout",
     "output_type": "stream",
     "text": [
      "cpu\n"
     ]
    }
   ],
   "source": [
    "# test to see what device we are running on \n",
    "try: \n",
    "    from jax.lib import xla_bridge\n",
    "    print(xla_bridge.get_backend().platform)\n",
    "except: \n",
    "    print(xla_bridge.get_backend().platform)"
   ]
  },
  {
   "cell_type": "code",
   "execution_count": 16,
   "id": "1",
   "metadata": {},
   "outputs": [],
   "source": [
    "%matplotlib inline \n",
    "import matplotlib.pyplot as plt\n",
    "import matplotlib.patches as patches\n",
    "plt.rcParams['figure.figsize'] = [6, 6]\n",
    "plt.rcParams['image.origin'] = 'lower'\n",
    "plt.rcParams['font.size'] = 12\n",
    "plt.rcParams[\"xtick.top\"] = True\n",
    "plt.rcParams[\"ytick.right\"] = True\n",
    "plt.rcParams[\"xtick.direction\"] = \"in\"\n",
    "plt.rcParams[\"ytick.direction\"] = \"in\"\n",
    "plt.rcParams[\"xtick.minor.visible\"] = True\n",
    "plt.rcParams[\"ytick.minor.visible\"] = True\n",
    "plt.rcParams[\"xtick.major.size\"] = 7\n",
    "plt.rcParams[\"xtick.minor.size\"] = 4.5\n",
    "plt.rcParams[\"ytick.major.size\"] = 7\n",
    "plt.rcParams[\"ytick.minor.size\"] = 4.5\n",
    "plt.rcParams[\"xtick.major.width\"] = 2\n",
    "plt.rcParams[\"xtick.minor.width\"] = 1.5\n",
    "plt.rcParams[\"ytick.major.width\"] = 2\n",
    "plt.rcParams[\"ytick.minor.width\"] = 1.5\n",
    "plt.rcParams[\"axes.linewidth\"] = 2\n",
    "plt.rcParams[\"font.family\"] = \"serif\"\n",
    "plt.rcParams[\"mathtext.fontset\"] = \"dejavuserif\"\n",
    "plt.rcParams.update({\"text.usetex\": True})"
   ]
  },
  {
   "cell_type": "code",
   "execution_count": 17,
   "id": "2",
   "metadata": {},
   "outputs": [],
   "source": [
    "import peytonites\n",
    "from peytonites import (\n",
    "    Distribution, SimState,\n",
    "    kpc_to_cm, cm_to_kpc, \n",
    "    lyr_to_cm, cm_to_lyr, \n",
    "    au_to_cm, cm_to_au\n",
    ")"
   ]
  },
  {
   "cell_type": "markdown",
   "id": "10",
   "metadata": {},
   "source": [
    "# Vector Simulation\n",
    "\n",
    "**Running this will replace/overwrite the last outputs**\n",
    "\n",
    "Using vectorized operations in this implementation significantly reduces computation time compared to the double for-loop, but at the cost of massively increased memory usage due to storing large intermediate arrays for pairwise distances and accelerations.\n",
    "\n"
   ]
  },
  {
   "cell_type": "code",
   "execution_count": 18,
   "id": "11",
   "metadata": {},
   "outputs": [],
   "source": [
    "def vector_simulation(n_steps, sim_init_cond, out_dir, verbose=False):\n",
    "    \n",
    "    G = sim_init_cond.G # cm^3 / (g s^2)\n",
    "    dt = sim_init_cond.dt\n",
    "    nsteps = n_steps #sim_init_cond.nsteps\n",
    "    out_interval = sim_init_cond.out_interval\n",
    "    soft = sim_init_cond.soft\n",
    "    \n",
    "    init_dist = sim_init_cond.distribution\n",
    "    \n",
    "    number_particles = init_dist.N\n",
    "    \n",
    "    x_arr = init_dist.x.copy()\n",
    "    y_arr = init_dist.y.copy()\n",
    "    z_arr = init_dist.z.copy()\n",
    "    \n",
    "    vx_arr = init_dist.vx.copy()\n",
    "    vy_arr = init_dist.vy.copy()\n",
    "    vz_arr = init_dist.vz.copy()\n",
    "    \n",
    "    mass_arr = init_dist.m.copy()\n",
    "    #----------------------------------------\n",
    "    for step in range(nsteps): \n",
    "        dx = x_arr[:, np.newaxis] - x_arr\n",
    "        dy = y_arr[:, np.newaxis] - y_arr\n",
    "        dz = z_arr[:, np.newaxis] - z_arr\n",
    "\n",
    "        \n",
    "        # Avoid division by zero by adding softening length\n",
    "        r_squared = dx**2 + dy**2 + dz**2 + soft**2\n",
    "        np.fill_diagonal(r_squared, 1)  # Avoid self-interaction\n",
    "        \n",
    "        r = np.sqrt(r_squared)\n",
    "        r_cubed = r_squared * r\n",
    "        \n",
    "        # Compute accelerations\n",
    "        a = -G * mass_arr / r_cubed\n",
    "        np.fill_diagonal(a, 0)  \n",
    "        ax_arr = np.sum(a * dx, axis=1)\n",
    "        ay_arr = np.sum(a * dy, axis=1)\n",
    "        az_arr = np.sum(a * dz, axis=1)\n",
    "        \n",
    "        \n",
    "        # Update velocities and positions\n",
    "        vx_arr += ax_arr * dt\n",
    "        vy_arr += ay_arr * dt\n",
    "        vz_arr += az_arr * dt\n",
    "        \n",
    "        x_arr += vx_arr * dt\n",
    "        y_arr += vy_arr * dt\n",
    "        z_arr += vz_arr * dt\n",
    "    #----------------------------------------\n",
    "\n",
    "        if step % out_interval == 0:\n",
    "            if verbose:\n",
    "                print(step) \n",
    "            \n",
    "            step_params = sim_init_cond.copy()\n",
    "            if step > 0:\n",
    "                step_dist = Distribution.from_arrays(\n",
    "                    x_arr, y_arr, z_arr, \n",
    "                    vx_arr, vy_arr, vz_arr,\n",
    "                    mass_arr, name=init_dist.name)\n",
    "\n",
    "                step_params = sim_init_cond.copy()\n",
    "                step_params.distribution = step_dist                \n",
    "            \n",
    "            step_filename = 'step_{:08d}.dat'.format(step)\n",
    "            step_path = path.join(out_dir, step_filename)\n",
    "            \n",
    "            if not os.path.isdir(out_dir):\n",
    "                os.makedirs(out_dir)\n",
    "            \n",
    "            step_params.write(step_path)\n",
    "    if verbose:\n",
    "        print(step) \n",
    "    #----------------------------------------\n",
    "    return \n",
    "    "
   ]
  },
  {
   "cell_type": "markdown",
   "id": "18fe971d-3476-44ad-ad09-579115e1aec6",
   "metadata": {},
   "source": [
    "# JIT-TED jax Simulation\n",
    "\n",
    "**Running this will replace/overwrite the last outputs**\n",
    "\n",
    "Using jitted operations in this implementation significantly reduces computation time. Go JAX\n",
    "Note for now I removed some jax arrays just have as numpy arrays to see what effect this has on memory footprint and runtime\n"
   ]
  },
  {
   "cell_type": "code",
   "execution_count": 19,
   "id": "edac4631-f048-45a0-a345-7d12de79b9ad",
   "metadata": {
    "tags": []
   },
   "outputs": [],
   "source": [
    "@partial(jax.jit, static_argnums=(7,8,9,))\n",
    "def step_fun(x_arr, y_arr, z_arr, vx_arr, vy_arr, vz_arr, mass_arr, soft, G, dt):\n",
    "    \n",
    "    dx = x_arr[:, None] - x_arr\n",
    "    dy = y_arr[:, None] - y_arr\n",
    "    dz = z_arr[:, None] - z_arr\n",
    "            \n",
    "    # Avoid division by zero by adding softening length\n",
    "    r_squared = dx**2 + dy**2 + dz**2 + soft**2\n",
    "    r_squared = jnp.fill_diagonal(r_squared, 1, inplace=False)  # Avoid self-interaction\n",
    "        \n",
    "    r = jnp.sqrt(r_squared)\n",
    "    r_cubed = r_squared * r\n",
    "        \n",
    "    # Compute accelerations\n",
    "    a = -G * mass_arr / r_cubed\n",
    "    a = jnp.fill_diagonal(a, 0, inplace=False)\n",
    "        \n",
    "    ax_arr = np.sum(a * dx, axis=1)\n",
    "    ay_arr = np.sum(a * dy, axis=1)\n",
    "    az_arr = np.sum(a * dz, axis=1)\n",
    "        \n",
    "        \n",
    "    # Update velocities and positions\n",
    "    vx_arr += ax_arr * dt\n",
    "    vy_arr += ay_arr * dt\n",
    "    vz_arr += az_arr * dt\n",
    "        \n",
    "    x_arr += vx_arr * dt\n",
    "    y_arr += vy_arr * dt\n",
    "    z_arr += vz_arr * dt\n",
    "    #----------------------------------------\n",
    "    return x_arr, y_arr, z_arr, vx_arr, vy_arr, vz_arr,\n",
    "\n",
    "def jax_simulation(n_steps, sim_init_cond, out_dir, verbose=False):\n",
    "    \n",
    "    G = sim_init_cond.G # cm^3 / (g s^2)\n",
    "    dt = sim_init_cond.dt\n",
    "    nsteps = n_steps #sim_init_cond.nsteps\n",
    "    out_interval = sim_init_cond.out_interval\n",
    "    soft = sim_init_cond.soft\n",
    "    init_dist = sim_init_cond.distribution\n",
    "    number_particles = init_dist.N\n",
    "    \n",
    "    x_arr = np.array(init_dist.x.copy())\n",
    "    y_arr = np.array(init_dist.y.copy())\n",
    "    z_arr = np.array(init_dist.z.copy())\n",
    "    \n",
    "    vx_arr = np.array(init_dist.vx.copy())\n",
    "    vy_arr = np.array(init_dist.vy.copy())\n",
    "    vz_arr = np.array(init_dist.vz.copy())\n",
    "    \n",
    "    mass_arr = np.array(init_dist.m.copy())\n",
    "    #----------------------------------------\n",
    "    for step in range(nsteps): \n",
    "        x_arr, y_arr, z_arr, vx_arr, vy_arr, vz_arr, = step_fun(x_arr, y_arr, z_arr, vx_arr, vy_arr, vz_arr, mass_arr, soft, G, dt)\n",
    "    #----------------------------------------\n",
    "\n",
    "        if step % out_interval == 0:\n",
    "            \n",
    "            step_params = sim_init_cond.copy()\n",
    "            if step > 0:\n",
    "                step_dist = Distribution.from_arrays(\n",
    "                    x_arr, y_arr, z_arr, \n",
    "                    vx_arr, vy_arr, vz_arr,\n",
    "                    mass_arr, name=init_dist.name)\n",
    "\n",
    "                step_params = sim_init_cond.copy()\n",
    "                step_params.distribution = step_dist                \n",
    "            \n",
    "            step_filename = 'step_{:08d}.dat'.format(step)\n",
    "            step_path = path.join(out_dir, step_filename)\n",
    "            \n",
    "            if not os.path.isdir(out_dir):\n",
    "                os.makedirs(out_dir)\n",
    "            \n",
    "            step_params.write(step_path)\n",
    "\n",
    "    #----------------------------------------\n",
    "    return "
   ]
  },
  {
   "cell_type": "markdown",
   "id": "92c702cf-efcd-4f3d-88d2-d602544fb8ce",
   "metadata": {},
   "source": [
    "# Run the accuracy tests"
   ]
  },
  {
   "cell_type": "code",
   "execution_count": 20,
   "id": "c11a81ee-5d76-40b6-aa20-e938692d29ad",
   "metadata": {},
   "outputs": [
    {
     "name": "stdout",
     "output_type": "stream",
     "text": [
      "            timing tests\n",
      "------------------------------------\n",
      "            vectorized\n",
      "done vector_run_time 0.3191337585449219 s\n",
      "           JIT compiled\n",
      "done jax compile_and_run_time 0.2926161289215088 s\n"
     ]
    }
   ],
   "source": [
    "out_dir = './solar_system_simout_VEC_TEST'\n",
    "steps = 10000\n",
    "\n",
    "sim_init_cond = SimState.read(\"solar_system_10000step_init.dat\")\n",
    "\n",
    "# ------------------------------------------ #\n",
    "print('            timing tests')\n",
    "print('------------------------------------')\n",
    "print('            vectorized')\n",
    "tstart = time()\n",
    "vector_simulation(steps, sim_init_cond, out_dir)\n",
    "tend = time()\n",
    "\n",
    "vector_run_time = (tend-tstart)*u.s\n",
    "print('done', 'vector_run_time', vector_run_time)\n",
    "\n",
    "# ------------------------------------------ #\n",
    "out_dir = './solar_system_simout_JAX_TEST'\n",
    "print('           JIT compiled')\n",
    "tstart = time()\n",
    "jax_simulation(steps, sim_init_cond, out_dir)\n",
    "tend = time()\n",
    "\n",
    "vector_run_time = (tend-tstart)*u.s\n",
    "print('done', 'jax compile_and_run_time', vector_run_time)"
   ]
  },
  {
   "cell_type": "code",
   "execution_count": 21,
   "id": "3e80d871-c4ab-4e97-b9ac-db6c7494e04d",
   "metadata": {},
   "outputs": [],
   "source": [
    "# Note the above closeness in time is due ti the 9 particles so compile time dominates the JAX version"
   ]
  },
  {
   "cell_type": "markdown",
   "id": "13",
   "metadata": {},
   "source": [
    "# Visualization"
   ]
  },
  {
   "cell_type": "code",
   "execution_count": 22,
   "id": "15",
   "metadata": {},
   "outputs": [
    {
     "data": {
      "image/png": "[encoded data removed]",
      "text/plain": [
       "<Figure size 600x600 with 1 Axes>"
      ]
     },
     "metadata": {},
     "output_type": "display_data"
    }
   ],
   "source": [
    "out_dir = './solar_system_simout_VEC_TEST'\n",
    "file_path = path.join(out_dir, 'step_00009500.dat')\n",
    "# Load simulation state\n",
    "step_state = SimState.read(file_path)\n",
    "# Get particle distribution \n",
    "dist = step_state.distribution\n",
    "\n",
    "out_dir = './solar_system_simout_JAX_TEST'\n",
    "file_path = path.join(out_dir, 'step_00009500.dat')\n",
    "# Load simulation state\n",
    "step_state = SimState.read(file_path)\n",
    "# Get particle distribution \n",
    "dist2 = step_state.distribution\n",
    "\n",
    "\n",
    "# Plot x and y in cm \n",
    "plt.scatter(dist.x, dist.y, label=\"vectorized\",c='firebrick')\n",
    "plt.scatter(dist2.x, dist2.y, label=\"JAX\", marker='x', c='cornflowerblue', s=100)\n",
    "plt.legend()\n",
    "plt.show()"
   ]
  },
  {
   "cell_type": "code",
   "execution_count": null,
   "id": "6cc0616d-155c-42c4-9813-09adcf06d011",
   "metadata": {},
   "outputs": [],
   "source": []
  },
  {
   "cell_type": "code",
   "execution_count": null,
   "id": "30b0c151-95b9-4d25-ab77-a9b5fe1bf322",
   "metadata": {},
   "outputs": [],
   "source": []
  }
 ],
 "metadata": {
  "kernelspec": {
   "display_name": "Python 3 (ipykernel)",
   "language": "python",
   "name": "python3"
  },
  "language_info": {
   "codemirror_mode": {
    "name": "ipython",
    "version": 3
   },
   "file_extension": ".py",
   "mimetype": "text/x-python",
   "name": "python",
   "nbconvert_exporter": "python",
   "pygments_lexer": "ipython3",
   "version": "3.11.8"
  }
 },
 "nbformat": 4,
 "nbformat_minor": 5
}
